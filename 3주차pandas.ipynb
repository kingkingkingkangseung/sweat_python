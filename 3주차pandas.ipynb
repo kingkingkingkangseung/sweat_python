{
 "cells": [
  {
   "cell_type": "code",
   "execution_count": 2,
   "metadata": {},
   "outputs": [],
   "source": [
    "import pandas as pd # pandas를 import 합니다. pd로 줄여 사용할 수 있습니다."
   ]
  },
  {
   "cell_type": "code",
   "execution_count": 3,
   "metadata": {},
   "outputs": [
    {
     "data": {
      "text/html": [
       "<div>\n",
       "<style scoped>\n",
       "    .dataframe tbody tr th:only-of-type {\n",
       "        vertical-align: middle;\n",
       "    }\n",
       "\n",
       "    .dataframe tbody tr th {\n",
       "        vertical-align: top;\n",
       "    }\n",
       "\n",
       "    .dataframe thead th {\n",
       "        text-align: right;\n",
       "    }\n",
       "</style>\n",
       "<table border=\"1\" class=\"dataframe\">\n",
       "  <thead>\n",
       "    <tr style=\"text-align: right;\">\n",
       "      <th></th>\n",
       "      <th>이름</th>\n",
       "      <th>성별</th>\n",
       "      <th>생일</th>\n",
       "      <th>종류</th>\n",
       "      <th>성격</th>\n",
       "      <th>일어나는 시각</th>\n",
       "      <th>잠드는 시각</th>\n",
       "      <th>자금</th>\n",
       "      <th>가구 수</th>\n",
       "    </tr>\n",
       "  </thead>\n",
       "  <tbody>\n",
       "    <tr>\n",
       "      <th>0</th>\n",
       "      <td>럭키</td>\n",
       "      <td>남</td>\n",
       "      <td>11월 04일</td>\n",
       "      <td>개</td>\n",
       "      <td>먹보</td>\n",
       "      <td>8:00</td>\n",
       "      <td>23:00</td>\n",
       "      <td>5575</td>\n",
       "      <td>2</td>\n",
       "    </tr>\n",
       "    <tr>\n",
       "      <th>1</th>\n",
       "      <td>로빈</td>\n",
       "      <td>남</td>\n",
       "      <td>05월 13일</td>\n",
       "      <td>개</td>\n",
       "      <td>먹보</td>\n",
       "      <td>8:00</td>\n",
       "      <td>23:00</td>\n",
       "      <td>2703</td>\n",
       "      <td>5</td>\n",
       "    </tr>\n",
       "    <tr>\n",
       "      <th>2</th>\n",
       "      <td>존</td>\n",
       "      <td>남</td>\n",
       "      <td>11월 01일</td>\n",
       "      <td>개</td>\n",
       "      <td>무뚝뚝</td>\n",
       "      <td>9:00</td>\n",
       "      <td>3:30</td>\n",
       "      <td>9850</td>\n",
       "      <td>1</td>\n",
       "    </tr>\n",
       "    <tr>\n",
       "      <th>3</th>\n",
       "      <td>토미</td>\n",
       "      <td>남</td>\n",
       "      <td>08월 04일</td>\n",
       "      <td>개</td>\n",
       "      <td>먹보</td>\n",
       "      <td>8:00</td>\n",
       "      <td>23:00</td>\n",
       "      <td>3665</td>\n",
       "      <td>2</td>\n",
       "    </tr>\n",
       "    <tr>\n",
       "      <th>4</th>\n",
       "      <td>벤</td>\n",
       "      <td>남</td>\n",
       "      <td>06월 10일</td>\n",
       "      <td>개</td>\n",
       "      <td>먹보</td>\n",
       "      <td>8:00</td>\n",
       "      <td>23:00</td>\n",
       "      <td>6994</td>\n",
       "      <td>3</td>\n",
       "    </tr>\n",
       "    <tr>\n",
       "      <th>...</th>\n",
       "      <td>...</td>\n",
       "      <td>...</td>\n",
       "      <td>...</td>\n",
       "      <td>...</td>\n",
       "      <td>...</td>\n",
       "      <td>...</td>\n",
       "      <td>...</td>\n",
       "      <td>...</td>\n",
       "      <td>...</td>\n",
       "    </tr>\n",
       "    <tr>\n",
       "      <th>408</th>\n",
       "      <td>고메스</td>\n",
       "      <td>남</td>\n",
       "      <td>08월 26일</td>\n",
       "      <td>호랑이</td>\n",
       "      <td>무뚝뚝/운동광</td>\n",
       "      <td>NaN</td>\n",
       "      <td>NaN</td>\n",
       "      <td>7733</td>\n",
       "      <td>8</td>\n",
       "    </tr>\n",
       "    <tr>\n",
       "      <th>409</th>\n",
       "      <td>범호</td>\n",
       "      <td>남</td>\n",
       "      <td>05월 15일</td>\n",
       "      <td>호랑이</td>\n",
       "      <td>운동광</td>\n",
       "      <td>6:30</td>\n",
       "      <td>0:30</td>\n",
       "      <td>6865</td>\n",
       "      <td>2</td>\n",
       "    </tr>\n",
       "    <tr>\n",
       "      <th>410</th>\n",
       "      <td>루주</td>\n",
       "      <td>여</td>\n",
       "      <td>08월 27일</td>\n",
       "      <td>호랑이</td>\n",
       "      <td>아이돌</td>\n",
       "      <td>7:30</td>\n",
       "      <td>1:30</td>\n",
       "      <td>1658</td>\n",
       "      <td>9</td>\n",
       "    </tr>\n",
       "    <tr>\n",
       "      <th>411</th>\n",
       "      <td>백희</td>\n",
       "      <td>여</td>\n",
       "      <td>12월 13일</td>\n",
       "      <td>호랑이</td>\n",
       "      <td>아이돌</td>\n",
       "      <td>7:30</td>\n",
       "      <td>1:30</td>\n",
       "      <td>5056</td>\n",
       "      <td>9</td>\n",
       "    </tr>\n",
       "    <tr>\n",
       "      <th>412</th>\n",
       "      <td>신디</td>\n",
       "      <td>여</td>\n",
       "      <td>11월 22일</td>\n",
       "      <td>호랑이</td>\n",
       "      <td>성숙함</td>\n",
       "      <td>8:30</td>\n",
       "      <td>2:30</td>\n",
       "      <td>3784</td>\n",
       "      <td>8</td>\n",
       "    </tr>\n",
       "  </tbody>\n",
       "</table>\n",
       "<p>413 rows × 9 columns</p>\n",
       "</div>"
      ],
      "text/plain": [
       "      이름 성별       생일   종류       성격 일어나는 시각 잠드는 시각    자금  가구 수\n",
       "0     럭키  남  11월 04일    개       먹보    8:00  23:00  5575     2\n",
       "1     로빈  남  05월 13일    개       먹보    8:00  23:00  2703     5\n",
       "2      존  남  11월 01일    개      무뚝뚝    9:00   3:30  9850     1\n",
       "3     토미  남  08월 04일    개       먹보    8:00  23:00  3665     2\n",
       "4      벤  남  06월 10일    개       먹보    8:00  23:00  6994     3\n",
       "..   ... ..      ...  ...      ...     ...    ...   ...   ...\n",
       "408  고메스  남  08월 26일  호랑이  무뚝뚝/운동광     NaN    NaN  7733     8\n",
       "409   범호  남  05월 15일  호랑이      운동광    6:30   0:30  6865     2\n",
       "410   루주  여  08월 27일  호랑이      아이돌    7:30   1:30  1658     9\n",
       "411   백희  여  12월 13일  호랑이      아이돌    7:30   1:30  5056     9\n",
       "412   신디  여  11월 22일  호랑이      성숙함    8:30   2:30  3784     8\n",
       "\n",
       "[413 rows x 9 columns]"
      ]
     },
     "execution_count": 3,
     "metadata": {},
     "output_type": "execute_result"
    }
   ],
   "source": [
    "df = pd.read_csv('data\\\\villagers.csv') # csv파일을 읽어옵니다.               #csv: comma로 구분된 파일\n",
    "df # 주피터 노트북에서는 셀의 마지막 줄을 출력할 수 있습니다."
   ]
  },
  {
   "cell_type": "code",
   "execution_count": 4,
   "metadata": {},
   "outputs": [
    {
     "name": "stdout",
     "output_type": "stream",
     "text": [
      "   이름 성별       생일 종류   성격 일어나는 시각 잠드는 시각    자금  가구 수\n",
      "0  럭키  남  11월 04일  개   먹보    8:00  23:00  5575     2\n",
      "1  로빈  남  05월 13일  개   먹보    8:00  23:00  2703     5\n",
      "2   존  남  11월 01일  개  무뚝뚝    9:00   3:30  9850     1\n",
      "3  토미  남  08월 04일  개   먹보    8:00  23:00  3665     2\n",
      "4   벤  남  06월 10일  개   먹보    8:00  23:00  6994     3\n",
      "      이름 성별       생일   종류       성격 일어나는 시각 잠드는 시각    자금  가구 수\n",
      "403  뽀야미  여  01월 30일  햄스터      친절함    6:00   0:00  9506     5\n",
      "404   샨티  여  08월 09일  햄스터      성숙함    8:30   2:30  6812     1\n",
      "405   애플  여  09월 24일  햄스터      아이돌    7:30   1:30  7390    10\n",
      "406  호랭이  남  08월 22일  호랑이      무뚝뚝    9:00   3:30  8000     2\n",
      "407  티볼트  남  08월 19일  호랑이      운동광    6:30   0:30  1361     1\n",
      "408  고메스  남  08월 26일  호랑이  무뚝뚝/운동광     NaN    NaN  7733     8\n",
      "409   범호  남  05월 15일  호랑이      운동광    6:30   0:30  6865     2\n",
      "410   루주  여  08월 27일  호랑이      아이돌    7:30   1:30  1658     9\n",
      "411   백희  여  12월 13일  호랑이      아이돌    7:30   1:30  5056     9\n",
      "412   신디  여  11월 22일  호랑이      성숙함    8:30   2:30  3784     8\n"
     ]
    }
   ],
   "source": [
    "print(df.head()) # Dataframe의 상위 5개를 보여줍니다.\n",
    "print(df.tail(10)) # 하위 10개를 보여줍니다. 원하는 숫자를 넣어 출력갯수를 조정할 수 있습니다."
   ]
  },
  {
   "cell_type": "code",
   "execution_count": 5,
   "metadata": {},
   "outputs": [
    {
     "name": "stdout",
     "output_type": "stream",
     "text": [
      "<class 'pandas.core.frame.DataFrame'>\n"
     ]
    }
   ],
   "source": [
    "print(type(df)) # 자료형을 확인할 수 있습니다.\n",
    "\n",
    "# 표 형식의 자료형은 pandas에서 Dataframe이라고 부릅니다."
   ]
  },
  {
   "cell_type": "code",
   "execution_count": 6,
   "metadata": {},
   "outputs": [
    {
     "name": "stdout",
     "output_type": "stream",
     "text": [
      "(413, 9)\n"
     ]
    }
   ],
   "source": [
    "print(df.shape) # 행과 열의 갯수를 알려줍니다. 413마리의 주민이 있습니다."
   ]
  },
  {
   "cell_type": "code",
   "execution_count": 7,
   "metadata": {},
   "outputs": [
    {
     "name": "stdout",
     "output_type": "stream",
     "text": [
      "Index(['이름', '성별', '생일', '종류', '성격', '일어나는 시각', '잠드는 시각', '자금', '가구 수'], dtype='object')\n"
     ]
    }
   ],
   "source": [
    "print(df.columns) # Dataframe의 최상단 즉, 속성을 알려줍니다."
   ]
  },
  {
   "cell_type": "code",
   "execution_count": 8,
   "metadata": {},
   "outputs": [
    {
     "name": "stdout",
     "output_type": "stream",
     "text": [
      "이름         object\n",
      "성별         object\n",
      "생일         object\n",
      "종류         object\n",
      "성격         object\n",
      "일어나는 시각    object\n",
      "잠드는 시각     object\n",
      "자금          int64\n",
      "가구 수        int64\n",
      "dtype: object\n",
      "\n",
      "<class 'pandas.core.frame.DataFrame'>\n",
      "RangeIndex: 413 entries, 0 to 412\n",
      "Data columns (total 9 columns):\n",
      " #   Column   Non-Null Count  Dtype \n",
      "---  ------   --------------  ----- \n",
      " 0   이름       413 non-null    object\n",
      " 1   성별       413 non-null    object\n",
      " 2   생일       413 non-null    object\n",
      " 3   종류       413 non-null    object\n",
      " 4   성격       413 non-null    object\n",
      " 5   일어나는 시각  395 non-null    object\n",
      " 6   잠드는 시각   395 non-null    object\n",
      " 7   자금       413 non-null    int64 \n",
      " 8   가구 수     413 non-null    int64 \n",
      "dtypes: int64(2), object(7)\n",
      "memory usage: 29.2+ KB\n",
      "None\n"
     ]
    }
   ],
   "source": [
    "print(df.dtypes) # 속성들의 자료형을 표시해줍니다. object는 pandas의 문자열입니다.\n",
    "print()\n",
    "print(df.info()) # info() 함수로도 확인할 수 있습니다."
   ]
  },
  {
   "cell_type": "code",
   "execution_count": 9,
   "metadata": {},
   "outputs": [
    {
     "name": "stdout",
     "output_type": "stream",
     "text": [
      "<class 'pandas.core.series.Series'>\n"
     ]
    },
    {
     "data": {
      "text/plain": [
       "0    11월 04일\n",
       "1    05월 13일\n",
       "2    11월 01일\n",
       "3    08월 04일\n",
       "4    06월 10일\n",
       "Name: 생일, dtype: object"
      ]
     },
     "execution_count": 9,
     "metadata": {},
     "output_type": "execute_result"
    }
   ],
   "source": [
    "# 주민의 생일만 알고 싶다면 []안에 열 이름(생일)을 전달하면 됩니다.\n",
    "# 참고로 dataframe의 열 한개니까 이것의 자료형은 series입니다.\n",
    "# 파이썬의 list 사용 방법과 굉장히 유사합니다.\n",
    "\n",
    "birthday = df['생일'] # birthday는 series가 됨 (열 1개)\n",
    "print(type(birthday))\n",
    "birthday.head()"
   ]
  },
  {
   "cell_type": "code",
   "execution_count": 10,
   "metadata": {},
   "outputs": [
    {
     "data": {
      "text/html": [
       "<div>\n",
       "<style scoped>\n",
       "    .dataframe tbody tr th:only-of-type {\n",
       "        vertical-align: middle;\n",
       "    }\n",
       "\n",
       "    .dataframe tbody tr th {\n",
       "        vertical-align: top;\n",
       "    }\n",
       "\n",
       "    .dataframe thead th {\n",
       "        text-align: right;\n",
       "    }\n",
       "</style>\n",
       "<table border=\"1\" class=\"dataframe\">\n",
       "  <thead>\n",
       "    <tr style=\"text-align: right;\">\n",
       "      <th></th>\n",
       "      <th>이름</th>\n",
       "      <th>생일</th>\n",
       "    </tr>\n",
       "  </thead>\n",
       "  <tbody>\n",
       "    <tr>\n",
       "      <th>0</th>\n",
       "      <td>럭키</td>\n",
       "      <td>11월 04일</td>\n",
       "    </tr>\n",
       "    <tr>\n",
       "      <th>1</th>\n",
       "      <td>로빈</td>\n",
       "      <td>05월 13일</td>\n",
       "    </tr>\n",
       "    <tr>\n",
       "      <th>2</th>\n",
       "      <td>존</td>\n",
       "      <td>11월 01일</td>\n",
       "    </tr>\n",
       "    <tr>\n",
       "      <th>3</th>\n",
       "      <td>토미</td>\n",
       "      <td>08월 04일</td>\n",
       "    </tr>\n",
       "    <tr>\n",
       "      <th>4</th>\n",
       "      <td>벤</td>\n",
       "      <td>06월 10일</td>\n",
       "    </tr>\n",
       "  </tbody>\n",
       "</table>\n",
       "</div>"
      ],
      "text/plain": [
       "   이름       생일\n",
       "0  럭키  11월 04일\n",
       "1  로빈  05월 13일\n",
       "2   존  11월 01일\n",
       "3  토미  08월 04일\n",
       "4   벤  06월 10일"
      ]
     },
     "execution_count": 10,
     "metadata": {},
     "output_type": "execute_result"
    }
   ],
   "source": [
    "# 이름, 생일을 동시에 알고 싶다면 리스트로 묶어 다중선택도 가능합니다.\n",
    "# 열이 2개 이상이니 series가 아닌 dataframe이다\n",
    "\n",
    "df[['이름', '생일']].head()"
   ]
  },
  {
   "cell_type": "code",
   "execution_count": 11,
   "metadata": {},
   "outputs": [
    {
     "data": {
      "text/plain": [
       "이름              애플\n",
       "성별               여\n",
       "생일         09월 24일\n",
       "종류             햄스터\n",
       "성격             아이돌\n",
       "일어나는 시각       7:30\n",
       "잠드는 시각        1:30\n",
       "자금            7390\n",
       "가구 수            10\n",
       "Name: 405, dtype: object"
      ]
     },
     "execution_count": 11,
     "metadata": {},
     "output_type": "execute_result"
    }
   ],
   "source": [
    "# 왼쪽에 0부터 숫자가 표시되어 있는 것은 index 번호입니다.\n",
    "# 순서대로 번호가 매겨져 있는거라고 생각하면 편합니다.\n",
    "# loc 속성은 안에 인덱스 번호를 넣으면 그 행만 뽑아줍니다.\n",
    "\n",
    "df.loc[405] # 405번은 인기주민 애플입니다. 애플이의 정보만 표시됩니다."
   ]
  },
  {
   "cell_type": "code",
   "execution_count": 12,
   "metadata": {},
   "outputs": [
    {
     "data": {
      "text/html": [
       "<div>\n",
       "<style scoped>\n",
       "    .dataframe tbody tr th:only-of-type {\n",
       "        vertical-align: middle;\n",
       "    }\n",
       "\n",
       "    .dataframe tbody tr th {\n",
       "        vertical-align: top;\n",
       "    }\n",
       "\n",
       "    .dataframe thead th {\n",
       "        text-align: right;\n",
       "    }\n",
       "</style>\n",
       "<table border=\"1\" class=\"dataframe\">\n",
       "  <thead>\n",
       "    <tr style=\"text-align: right;\">\n",
       "      <th></th>\n",
       "      <th>이름</th>\n",
       "      <th>성별</th>\n",
       "      <th>생일</th>\n",
       "      <th>종류</th>\n",
       "      <th>성격</th>\n",
       "      <th>일어나는 시각</th>\n",
       "      <th>잠드는 시각</th>\n",
       "      <th>자금</th>\n",
       "      <th>가구 수</th>\n",
       "    </tr>\n",
       "  </thead>\n",
       "  <tbody>\n",
       "    <tr>\n",
       "      <th>61</th>\n",
       "      <td>잭슨</td>\n",
       "      <td>남</td>\n",
       "      <td>10월 01일</td>\n",
       "      <td>고양이</td>\n",
       "      <td>느끼함</td>\n",
       "      <td>7:00</td>\n",
       "      <td>2:00</td>\n",
       "      <td>1967</td>\n",
       "      <td>1</td>\n",
       "    </tr>\n",
       "    <tr>\n",
       "      <th>122</th>\n",
       "      <td>쭈니</td>\n",
       "      <td>남</td>\n",
       "      <td>09월 29일</td>\n",
       "      <td>다람쥐</td>\n",
       "      <td>느끼함</td>\n",
       "      <td>7:00</td>\n",
       "      <td>2:00</td>\n",
       "      <td>9546</td>\n",
       "      <td>8</td>\n",
       "    </tr>\n",
       "    <tr>\n",
       "      <th>405</th>\n",
       "      <td>애플</td>\n",
       "      <td>여</td>\n",
       "      <td>09월 24일</td>\n",
       "      <td>햄스터</td>\n",
       "      <td>아이돌</td>\n",
       "      <td>7:30</td>\n",
       "      <td>1:30</td>\n",
       "      <td>7390</td>\n",
       "      <td>10</td>\n",
       "    </tr>\n",
       "  </tbody>\n",
       "</table>\n",
       "</div>"
      ],
      "text/plain": [
       "     이름 성별       생일   종류   성격 일어나는 시각 잠드는 시각    자금  가구 수\n",
       "61   잭슨  남  10월 01일  고양이  느끼함    7:00   2:00  1967     1\n",
       "122  쭈니  남  09월 29일  다람쥐  느끼함    7:00   2:00  9546     8\n",
       "405  애플  여  09월 24일  햄스터  아이돌    7:30   1:30  7390    10"
      ]
     },
     "execution_count": 12,
     "metadata": {},
     "output_type": "execute_result"
    }
   ],
   "source": [
    "# 리스트로 묶어서 넣어준다면 여러개도 OK\n",
    "df.loc[[61, 122, 405]] # 인기 주민인 잭슨, 쭈니, 애플"
   ]
  },
  {
   "cell_type": "code",
   "execution_count": 13,
   "metadata": {},
   "outputs": [
    {
     "data": {
      "text/plain": [
       "이름              럭키\n",
       "성별               남\n",
       "생일         11월 04일\n",
       "종류               개\n",
       "성격              먹보\n",
       "일어나는 시각       8:00\n",
       "잠드는 시각       23:00\n",
       "자금            5575\n",
       "가구 수             2\n",
       "Name: 0, dtype: object"
      ]
     },
     "execution_count": 13,
     "metadata": {},
     "output_type": "execute_result"
    }
   ],
   "source": [
    "# loc은 index 번호를 기준으로 추출했습니다\n",
    "# iloc은 index 번호가 아닌 실제 데이터프레임의 행 순서가 기준이입니다.\n",
    "# 지금은 인덱스와 행 번호가 동일하기 때문에 동일한 결과값이 출력됩니다.\n",
    "\n",
    "df.iloc[0]"
   ]
  },
  {
   "cell_type": "code",
   "execution_count": 14,
   "metadata": {},
   "outputs": [
    {
     "data": {
      "text/plain": [
       "이름              신디\n",
       "성별               여\n",
       "생일         11월 22일\n",
       "종류             호랑이\n",
       "성격             성숙함\n",
       "일어나는 시각       8:30\n",
       "잠드는 시각        2:30\n",
       "자금            3784\n",
       "가구 수             8\n",
       "Name: 412, dtype: object"
      ]
     },
     "execution_count": 14,
     "metadata": {},
     "output_type": "execute_result"
    }
   ],
   "source": [
    "# 다만 차이가 있다면 음수를 넣을 수 있습니다.\n",
    "# -1은 마지막 행을 출력해줍니다. list와 유사합니다.\n",
    "\n",
    "df.iloc[-1]"
   ]
  },
  {
   "cell_type": "code",
   "execution_count": 15,
   "metadata": {},
   "outputs": [
    {
     "data": {
      "text/plain": [
       "성별\n",
       "(없음)    3756.857143\n",
       "남       5931.971014\n",
       "여       5198.633166\n",
       "Name: 자금, dtype: float64"
      ]
     },
     "execution_count": 15,
     "metadata": {},
     "output_type": "execute_result"
    }
   ],
   "source": [
    "df.groupby('성별')['자금'].mean() # 성별 별로 묶어서 자금의 평균을 구합니다."
   ]
  },
  {
   "cell_type": "code",
   "execution_count": 16,
   "metadata": {},
   "outputs": [
    {
     "data": {
      "text/html": [
       "<div>\n",
       "<style scoped>\n",
       "    .dataframe tbody tr th:only-of-type {\n",
       "        vertical-align: middle;\n",
       "    }\n",
       "\n",
       "    .dataframe tbody tr th {\n",
       "        vertical-align: top;\n",
       "    }\n",
       "\n",
       "    .dataframe thead th {\n",
       "        text-align: right;\n",
       "    }\n",
       "</style>\n",
       "<table border=\"1\" class=\"dataframe\">\n",
       "  <thead>\n",
       "    <tr style=\"text-align: right;\">\n",
       "      <th></th>\n",
       "      <th></th>\n",
       "      <th>자금</th>\n",
       "      <th>가구 수</th>\n",
       "    </tr>\n",
       "    <tr>\n",
       "      <th>성별</th>\n",
       "      <th>성격</th>\n",
       "      <th></th>\n",
       "      <th></th>\n",
       "    </tr>\n",
       "  </thead>\n",
       "  <tbody>\n",
       "    <tr>\n",
       "      <th rowspan=\"5\" valign=\"top\">(없음)</th>\n",
       "      <th>느끼함</th>\n",
       "      <td>2661.000000</td>\n",
       "      <td>1.000000</td>\n",
       "    </tr>\n",
       "    <tr>\n",
       "      <th>먹보</th>\n",
       "      <td>5149.000000</td>\n",
       "      <td>7.000000</td>\n",
       "    </tr>\n",
       "    <tr>\n",
       "      <th>무뚝뚝</th>\n",
       "      <td>2958.000000</td>\n",
       "      <td>10.000000</td>\n",
       "    </tr>\n",
       "    <tr>\n",
       "      <th>운동광</th>\n",
       "      <td>3217.333333</td>\n",
       "      <td>9.000000</td>\n",
       "    </tr>\n",
       "    <tr>\n",
       "      <th>운동광/느끼함</th>\n",
       "      <td>5878.000000</td>\n",
       "      <td>2.000000</td>\n",
       "    </tr>\n",
       "    <tr>\n",
       "      <th rowspan=\"10\" valign=\"top\">남</th>\n",
       "      <th>느끼함</th>\n",
       "      <td>6352.586207</td>\n",
       "      <td>5.758621</td>\n",
       "    </tr>\n",
       "    <tr>\n",
       "      <th>먹보</th>\n",
       "      <td>5779.774194</td>\n",
       "      <td>5.258065</td>\n",
       "    </tr>\n",
       "    <tr>\n",
       "      <th>먹보/느끼함</th>\n",
       "      <td>5214.666667</td>\n",
       "      <td>7.000000</td>\n",
       "    </tr>\n",
       "    <tr>\n",
       "      <th>먹보/무뚝뚝</th>\n",
       "      <td>7246.000000</td>\n",
       "      <td>3.000000</td>\n",
       "    </tr>\n",
       "    <tr>\n",
       "      <th>무뚝뚝</th>\n",
       "      <td>5640.754717</td>\n",
       "      <td>4.943396</td>\n",
       "    </tr>\n",
       "    <tr>\n",
       "      <th>무뚝뚝/느끼함</th>\n",
       "      <td>7427.000000</td>\n",
       "      <td>4.000000</td>\n",
       "    </tr>\n",
       "    <tr>\n",
       "      <th>무뚝뚝/운동광</th>\n",
       "      <td>7733.000000</td>\n",
       "      <td>8.000000</td>\n",
       "    </tr>\n",
       "    <tr>\n",
       "      <th>운동광</th>\n",
       "      <td>6055.566038</td>\n",
       "      <td>5.754717</td>\n",
       "    </tr>\n",
       "    <tr>\n",
       "      <th>운동광/느끼함</th>\n",
       "      <td>9436.000000</td>\n",
       "      <td>10.000000</td>\n",
       "    </tr>\n",
       "    <tr>\n",
       "      <th>운동광/무뚝뚝</th>\n",
       "      <td>3283.000000</td>\n",
       "      <td>2.000000</td>\n",
       "    </tr>\n",
       "    <tr>\n",
       "      <th rowspan=\"8\" valign=\"top\">여</th>\n",
       "      <th>단순활발</th>\n",
       "      <td>6156.350000</td>\n",
       "      <td>5.700000</td>\n",
       "    </tr>\n",
       "    <tr>\n",
       "      <th>성숙함</th>\n",
       "      <td>4697.964286</td>\n",
       "      <td>5.553571</td>\n",
       "    </tr>\n",
       "    <tr>\n",
       "      <th>성숙함/단순활발</th>\n",
       "      <td>3937.000000</td>\n",
       "      <td>1.000000</td>\n",
       "    </tr>\n",
       "    <tr>\n",
       "      <th>아이돌</th>\n",
       "      <td>4868.603774</td>\n",
       "      <td>4.924528</td>\n",
       "    </tr>\n",
       "    <tr>\n",
       "      <th>아이돌/단순활발</th>\n",
       "      <td>6131.333333</td>\n",
       "      <td>6.333333</td>\n",
       "    </tr>\n",
       "    <tr>\n",
       "      <th>아이돌/성숙함</th>\n",
       "      <td>9543.000000</td>\n",
       "      <td>2.000000</td>\n",
       "    </tr>\n",
       "    <tr>\n",
       "      <th>친절함</th>\n",
       "      <td>5497.396825</td>\n",
       "      <td>5.873016</td>\n",
       "    </tr>\n",
       "    <tr>\n",
       "      <th>친절함/단순활발</th>\n",
       "      <td>8132.000000</td>\n",
       "      <td>4.000000</td>\n",
       "    </tr>\n",
       "  </tbody>\n",
       "</table>\n",
       "</div>"
      ],
      "text/plain": [
       "                        자금       가구 수\n",
       "성별   성격                              \n",
       "(없음) 느끼함       2661.000000   1.000000\n",
       "     먹보        5149.000000   7.000000\n",
       "     무뚝뚝       2958.000000  10.000000\n",
       "     운동광       3217.333333   9.000000\n",
       "     운동광/느끼함   5878.000000   2.000000\n",
       "남    느끼함       6352.586207   5.758621\n",
       "     먹보        5779.774194   5.258065\n",
       "     먹보/느끼함    5214.666667   7.000000\n",
       "     먹보/무뚝뚝    7246.000000   3.000000\n",
       "     무뚝뚝       5640.754717   4.943396\n",
       "     무뚝뚝/느끼함   7427.000000   4.000000\n",
       "     무뚝뚝/운동광   7733.000000   8.000000\n",
       "     운동광       6055.566038   5.754717\n",
       "     운동광/느끼함   9436.000000  10.000000\n",
       "     운동광/무뚝뚝   3283.000000   2.000000\n",
       "여    단순활발      6156.350000   5.700000\n",
       "     성숙함       4697.964286   5.553571\n",
       "     성숙함/단순활발  3937.000000   1.000000\n",
       "     아이돌       4868.603774   4.924528\n",
       "     아이돌/단순활발  6131.333333   6.333333\n",
       "     아이돌/성숙함   9543.000000   2.000000\n",
       "     친절함       5497.396825   5.873016\n",
       "     친절함/단순활발  8132.000000   4.000000"
      ]
     },
     "execution_count": 16,
     "metadata": {},
     "output_type": "execute_result"
    }
   ],
   "source": [
    "df.groupby(['성별', '성격'])[['자금', '가구 수']].mean() # 여러개도 리스트로 묶어서 전달하면 OK"
   ]
  },
  {
   "cell_type": "code",
   "execution_count": 17,
   "metadata": {},
   "outputs": [
    {
     "name": "stdout",
     "output_type": "stream",
     "text": [
      "1071\n",
      "9995\n",
      "2288744\n",
      "5541.753026634383\n",
      "7199180.264098827\n",
      "2683.128819885252\n",
      "413\n",
      "5534.0\n",
      "0    6419\n",
      "Name: 자금, dtype: int64\n"
     ]
    }
   ],
   "source": [
    "print(df['자금'].min()) # 최소값\n",
    "print(df['자금'].max()) # 최대값\n",
    "print(df['자금'].sum()) # 합계\n",
    "print(df['자금'].mean()) # 평균\n",
    "print(df['자금'].var()) # 분산\n",
    "print(df['자금'].std()) # 표준편차\n",
    "print(df['자금'].count()) # 갯수세기\n",
    "print(df['자금'].median()) # 중앙값\n",
    "print(df['자금'].mode()) # 최빈값"
   ]
  }
 ],
 "metadata": {
  "kernelspec": {
   "display_name": "Python 3",
   "language": "python",
   "name": "python3"
  },
  "language_info": {
   "codemirror_mode": {
    "name": "ipython",
    "version": 3
   },
   "file_extension": ".py",
   "mimetype": "text/x-python",
   "name": "python",
   "nbconvert_exporter": "python",
   "pygments_lexer": "ipython3",
   "version": "3.13.2"
  },
  "orig_nbformat": 4
 },
 "nbformat": 4,
 "nbformat_minor": 2
}
