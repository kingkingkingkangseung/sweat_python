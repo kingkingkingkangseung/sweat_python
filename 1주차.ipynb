{
 "cells": [
  {
   "cell_type": "markdown",
   "metadata": {},
   "source": [
    "# SWeat 파이썬 기초 스터디 1주차\n",
    "\n",
    "강의내용 : 파이썬 기초 환경설정, print()"
   ]
  },
  {
   "cell_type": "markdown",
   "metadata": {},
   "source": [
    "# 1. 파이썬 설치\n",
    "튜터를 따라 파이썬 개발환경을 설치하고, 다음 코드에서 control + enter 를 눌러서 잘 실행되는지 확인해보세요.\n",
    "\n",
    "아래 코드가 정상적으로 실행되면, 여러분들은 파이썬을 배우기 위한 첫 걸음을 시작했습니다!\n",
    "\n",
    "모르는 게 있거나 따라하다 놓쳤다면, 언제든 손들고 튜터에게 물어보기 ><"
   ]
  },
  {
   "cell_type": "code",
   "execution_count": 1,
   "metadata": {},
   "outputs": [
    {
     "name": "stdout",
     "output_type": "stream",
     "text": [
      "Hello, SWeat!\n"
     ]
    }
   ],
   "source": [
    "print(\"Hello, SWeat!\")"
   ]
  },
  {
   "cell_type": "markdown",
   "metadata": {},
   "source": [
    "print()를 쓰고, 안에 큰 따옴표와 함께 문구를 넣고 실행하면, 해당 문구가 출력됩니다."
   ]
  },
  {
   "cell_type": "code",
   "execution_count": null,
   "metadata": {},
   "outputs": [],
   "source": [
    "# 직접 따라해보세요.\n"
   ]
  },
  {
   "cell_type": "markdown",
   "metadata": {},
   "source": [
    "# 2. 실력 뽐내기 (?)\n",
    "자, 아래 문제를 풀어볼까요? 참고로 줄바꿈을 하고 싶다면 '\\n'을 넣으면 된답니다!"
   ]
  },
  {
   "cell_type": "markdown",
   "metadata": {},
   "source": [
    "\"우헤헤헹\"을 출력하는 코드를 아래에 작성하고, 실행해보세요."
   ]
  },
  {
   "cell_type": "code",
   "execution_count": null,
   "metadata": {},
   "outputs": [],
   "source": [
    "# 여기에 답을 작성하세요.\n"
   ]
  }
 ],
 "metadata": {
  "kernelspec": {
   "display_name": "Python 3",
   "language": "python",
   "name": "python3"
  },
  "language_info": {
   "codemirror_mode": {
    "name": "ipython",
    "version": 3
   },
   "file_extension": ".py",
   "mimetype": "text/x-python",
   "name": "python",
   "nbconvert_exporter": "python",
   "pygments_lexer": "ipython3",
   "version": "3.13.0"
  }
 },
 "nbformat": 4,
 "nbformat_minor": 2
}
